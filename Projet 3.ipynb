{
 "cells": [
  {
   "cell_type": "markdown",
   "id": "following-parker",
   "metadata": {},
   "source": [
    "# Projet 3 : développer à partir de l’expression de gènes (puce à ADN) un outil de diagnostic, capable de prédire plusieurs types de cancer."
   ]
  },
  {
   "cell_type": "markdown",
   "id": "disturbed-pioneer",
   "metadata": {},
   "source": [
    "Etudiants :\n",
    "- Mattei Simon\n",
    "- Mercado Pablo"
   ]
  },
  {
   "cell_type": "markdown",
   "id": "elegant-parameter",
   "metadata": {
    "pycharm": {
     "name": "#%% md\n"
    }
   },
   "source": [
    "## Introduction\n",
    "### Un rappel sur ce qu'est le cancer\n",
    "Le cancer est la prolifération de cellules anormales dans un tissu. Elles peuvent utiliser le système sanguin pour voyager et aller affecter d'autres tissus. Certains cancers sont d'origine génétique et ils existent plusieurs facteurs de risques (consommation excessive de tabac et alcool, exposition au soleil, obésité...). Manger une [pomme](https://pubmed.ncbi.nlm.nih.gov/23091184/), faites de l'exercice et manger sainement pour éviter le cancer!\n",
    "\n",
    "Bien que l'âge ne soit pas la cause directe du cancer, on observe un taux d'incidence plus élevée chez les personnes agées. Avec le vieillissement de la population, la recherche du cancer est un domaine qui pourrait sauver beaucoup de vies.\n",
    "\n",
    "### Types de cancer\n",
    "On peut classer les [cancers](https://fr.wikipedia.org/wiki/Cancer) par les organes (et tissus) qu'ils touchent :\n",
    "*    le cancer du sein\n",
    "*    le cancer du côlon\n",
    "*    le cancer du pancréas\n",
    "*    le cancer de la prostate\n",
    "*    le cancer du cerveau\n",
    "*    le myélome multiple : cancer de la moelle osseuse\n",
    "*    les leucémies\n",
    "*    le sarcome de Kaposi : cancer des vaisseaux sanguins\n",
    "*    les lymphomes\n",
    "*    le cancer des testicules\n",
    "*    le cancer des poumons\n",
    "*    le cancer des reins\n",
    "*    le cancer du foie\n",
    "\n",
    "### Panel NCI60\n",
    "Le dataset utilisé prend des [lignées cellulaires (cell line)](https://fr.wikipedia.org/wiki/Lign%C3%A9e_cellulaire_(m%C3%A9decine)), c-à-d des cellules pouvant théoriquement se diviser à l'infini."
   ]
  },
  {
   "cell_type": "code",
   "execution_count": 1,
   "id": "sustainable-anime",
   "metadata": {
    "pycharm": {
     "name": "#%%\n"
    }
   },
   "outputs": [],
   "source": [
    "import os\n",
    "import numpy as np\n",
    "import pylab as plt\n",
    "%matplotlib inline\n",
    "import pandas as pd"
   ]
  },
  {
   "cell_type": "code",
   "execution_count": 2,
   "id": "adjusted-studio",
   "metadata": {},
   "outputs": [],
   "source": [
    "from Bio import Geo\n",
    "\n",
    "def load_geo(myfile):\n",
    "    handle = open(myfile)\n",
    "    records = Geo.parse(handle)\n",
    "    return records\n",
    "\n",
    "records = load_geo('GDS4296.soft')"
   ]
  },
  {
   "cell_type": "markdown",
   "id": "wrapped-front",
   "metadata": {
    "pycharm": {
     "name": "#%% md\n"
    }
   },
   "source": [
    "On extrait quelques informations sur le panel..."
   ]
  },
  {
   "cell_type": "code",
   "execution_count": 3,
   "id": "suffering-humor",
   "metadata": {
    "pycharm": {
     "name": "#%%\n"
    }
   },
   "outputs": [
    {
     "name": "stdout",
     "output_type": "stream",
     "text": [
      "done reading\n"
     ]
    }
   ],
   "source": [
    "f = open(\"soft-info.txt\", \"w\")\n",
    "\n",
    "while True:\n",
    "    try:\n",
    "        nr = next(records)\n",
    "        f.write(str(nr))\n",
    "        f.write('\\n---------------------- ENTITY_ATTRIBUTES:------------------------------\\n')\n",
    "        f.write(str(nr.entity_attributes))\n",
    "    except StopIteration:\n",
    "        print(\"done reading\")\n",
    "        break"
   ]
  },
  {
   "cell_type": "markdown",
   "id": "southern-script",
   "metadata": {
    "pycharm": {
     "name": "#%% md\n"
    }
   },
   "source": [
    "Extrayons les données utiles: niveaux d'expressions des conditions et sources des conditions."
   ]
  },
  {
   "cell_type": "code",
   "execution_count": 4,
   "id": "potential-yugoslavia",
   "metadata": {
    "pycharm": {
     "name": "#%%\n"
    }
   },
   "outputs": [
    {
     "name": "stdout",
     "output_type": "stream",
     "text": [
      "174\n"
     ]
    }
   ],
   "source": [
    "records = load_geo('GDS4296.soft')\n",
    "\n",
    "# description of each condition (cell type)\n",
    "id_cond_tissue = {}\n",
    "diseases = set()\n",
    "\n",
    "# loop over records\n",
    "for r in records:\n",
    "    rea = r.entity_attributes\n",
    "\n",
    "    # condition for cell type/tissue/disease state\n",
    "    if 'subset_dataset_id' in rea:\n",
    "        sample_list = rea['subset_sample_id'].split(',')\n",
    "        desc = rea['subset_description']\n",
    "\n",
    "        if rea['subset_type'] == 'tissue':\n",
    "            for sample in sample_list:\n",
    "                id_cond_tissue[sample] = desc\n",
    "                diseases.add(desc)\n",
    "\n",
    "        # si l'on veut plus de détail sur la variété de cancer\n",
    "        # e.g. https://fr.wikipedia.org/wiki/Astrocytome\n",
    "        #if rea['subset_type'] == 'disease state':\n",
    "            #for sample in sample_list:\n",
    "                #id_cond_disease[sample] = desc\n",
    "                #disease_with_details.add(desc)\n",
    "\n",
    "    if 'dataset_table_begin' in rea:\n",
    "        data = r.table_rows\n",
    "\n",
    "# converts data to an array (more practical to handle)\n",
    "data = np.array(data)\n",
    "print(len(id_cond_tissue))"
   ]
  },
  {
   "cell_type": "markdown",
   "id": "inappropriate-traveler",
   "metadata": {
    "pycharm": {
     "name": "#%% md\n"
    }
   },
   "source": [
    "On désire connaître la proportion de cancer répertorié dans les échantillons. Histoire de vérifier qu'il y a suffisamment d'échantillons pour faire notre classificateur."
   ]
  },
  {
   "cell_type": "code",
   "execution_count": 5,
   "id": "rotary-liechtenstein",
   "metadata": {
    "pycharm": {
     "name": "#%%\n"
    }
   },
   "outputs": [
    {
     "name": "stdout",
     "output_type": "stream",
     "text": [
      "     Cancer location       # échantillons \tquantité (%)\n",
      "------------------------------------------------------------------\n",
      "               colon                   21 \t 12.07\n",
      "            melanoma                   26 \t 14.94\n",
      " non-small cell lung                   26 \t 14.94\n",
      "            prostate                    6 \t 3.45\n",
      "               renal                   23 \t 13.22\n",
      "            leukemia                   18 \t 10.34\n",
      "                 CNS                   18 \t 10.34\n",
      "              breast                   15 \t 8.62\n",
      "             ovarian                   21 \t 12.07\n"
     ]
    }
   ],
   "source": [
    "cancer_sample_count = {}\n",
    "for cancer in diseases:\n",
    "    cancer_sample_count[cancer] = 0\n",
    "    for sample in id_cond_tissue:\n",
    "        if cancer == id_cond_tissue[sample]:\n",
    "            cancer_sample_count[cancer] = cancer_sample_count[cancer] + 1\n",
    "\n",
    "total_sample = len(id_cond_tissue)\n",
    "\n",
    "print(\"{: >20} {: >20}\".format(\"Cancer location\", '# échantillons'), '\\tquantité (%)')\n",
    "print('------------------------------------------------------------------')\n",
    "for cancer in cancer_sample_count:\n",
    "    print(\"{: >20} {: >20}\".format(cancer, cancer_sample_count[cancer]), '\\t', \"{0:.2f}\".format(cancer_sample_count[cancer]/total_sample*100))"
   ]
  },
  {
   "cell_type": "markdown",
   "id": "considerable-south",
   "metadata": {
    "pycharm": {
     "name": "#%% md\n"
    }
   },
   "source": [
    "Seul les échantillons de la prostate sont en petites quantités (3% de l'échantillonage)."
   ]
  },
  {
   "cell_type": "markdown",
   "id": "killing-trial",
   "metadata": {
    "pycharm": {
     "name": "#%% md\n"
    }
   },
   "source": [
    "Afin de mener nos recherches en étant objectif, on divise notre jeu de données en données de train et données de test:"
   ]
  },
  {
   "cell_type": "code",
   "execution_count": 6,
   "id": "pharmaceutical-recording",
   "metadata": {
    "pycharm": {
     "name": "#%%\n"
    }
   },
   "outputs": [
    {
     "name": "stdout",
     "output_type": "stream",
     "text": [
      "(54676, 144)\n",
      "(54676, 32)\n"
     ]
    }
   ],
   "source": [
    "import random\n",
    "\n",
    "# init dictionnary with disease - empty list\n",
    "diseases_cond = {}\n",
    "for disease in diseases:\n",
    "    diseases_cond[disease] = []\n",
    "\n",
    "# add every condition to dictionnary\n",
    "for cond in id_cond_tissue:\n",
    "    diseases_cond[id_cond_tissue[cond]].append(cond)\n",
    "\n",
    "# shuffle conditions and add them to train/test conditions\n",
    "test_conds = []\n",
    "train_conds = []\n",
    "for disease in diseases_cond:\n",
    "    random.shuffle(diseases_cond[disease])\n",
    "    idx_sep = int(len(diseases_cond[disease]) / 5) # 80/20%\n",
    "    test_conds += diseases_cond[disease][:idx_sep]\n",
    "    train_conds += diseases_cond[disease][idx_sep:]\n",
    "\n",
    "# seperate data according to conditions\n",
    "idx_test = []\n",
    "for cond in test_conds:\n",
    "    idx_test.append(data[0,:].tolist().index(cond))\n",
    "\n",
    "idx_train = list(range(0,len(id_cond_tissue)+2))\n",
    "[idx_train.remove(i) for i in idx_test]\n",
    "\n",
    "data_test = data[:,idx_test]\n",
    "data_train = data[:,idx_train]\n",
    "\n",
    "print(np.shape(data_train))\n",
    "print(np.shape(data_test))"
   ]
  },
  {
   "cell_type": "markdown",
   "id": "becoming-scottish",
   "metadata": {
    "pycharm": {
     "name": "#%% md\n"
    }
   },
   "source": [
    "On veut sélectionner les gènes pertinents dans notre jeu de train pour former notre classificateur. Affichons déjà les niveaux d'expression pour un gène aux travers des échantillons:"
   ]
  },
  {
   "cell_type": "code",
   "execution_count": 7,
   "id": "accessible-hunger",
   "metadata": {
    "pycharm": {
     "name": "#%%\n"
    }
   },
   "outputs": [
    {
     "name": "stdout",
     "output_type": "stream",
     "text": [
      "cell_type:\t['colon', 'melanoma', 'non-small cell lung', 'prostate', 'renal', 'leukemia', 'CNS', 'breast', 'ovarian']\n",
      "\n",
      "idx_cell_type:\t[0, 1, 45, 46, 47, 48, 49, 50, 51, 52, 53, 54, 55, 56, 57, 58, 59, 60, 61, 27, 28, 29, 123, 124, 125, 126, 127, 128, 129, 130, 131, 132, 133, 134, 135, 136, 137, 138, 139, 140, 81, 82, 83, 84, 85, 86, 87, 88, 89, 90, 91, 92, 93, 94, 95, 96, 97, 98, 99, 100, 101, 118, 119, 120, 121, 122, 62, 63, 64, 65, 66, 67, 68, 69, 70, 71, 72, 73, 74, 75, 76, 77, 78, 79, 80, 2, 3, 4, 5, 6, 7, 8, 9, 10, 11, 12, 13, 14, 15, 16, 30, 31, 32, 33, 34, 35, 36, 37, 38, 39, 40, 41, 42, 43, 44, 17, 18, 19, 20, 21, 22, 24, 25, 26, 141, 142, 143, 23, 102, 103, 104, 105, 106, 107, 108, 109, 110, 111, 112, 113, 114, 115, 116, 117]\n",
      "\n",
      "colors_cell_type:\t['red', 'red', 'red', 'red', 'red', 'red', 'red', 'red', 'red', 'red', 'red', 'red', 'red', 'red', 'red', 'red', 'red', 'green', 'green', 'green', 'green', 'green', 'green', 'green', 'green', 'green', 'green', 'green', 'green', 'green', 'green', 'green', 'green', 'green', 'green', 'green', 'green', 'green', 'blue', 'blue', 'blue', 'blue', 'blue', 'blue', 'blue', 'blue', 'blue', 'blue', 'blue', 'blue', 'blue', 'blue', 'blue', 'blue', 'blue', 'blue', 'blue', 'blue', 'blue', 'cyan', 'cyan', 'cyan', 'cyan', 'cyan', 'magenta', 'magenta', 'magenta', 'magenta', 'magenta', 'magenta', 'magenta', 'magenta', 'magenta', 'magenta', 'magenta', 'magenta', 'magenta', 'magenta', 'magenta', 'magenta', 'magenta', 'magenta', 'magenta', 'yellow', 'yellow', 'yellow', 'yellow', 'yellow', 'yellow', 'yellow', 'yellow', 'yellow', 'yellow', 'yellow', 'yellow', 'yellow', 'yellow', 'yellow', 'purple', 'purple', 'purple', 'purple', 'purple', 'purple', 'purple', 'purple', 'purple', 'purple', 'purple', 'purple', 'purple', 'purple', 'purple', 'orange', 'orange', 'orange', 'orange', 'orange', 'orange', 'orange', 'orange', 'orange', 'orange', 'orange', 'orange', 'lime', 'lime', 'lime', 'lime', 'lime', 'lime', 'lime', 'lime', 'lime', 'lime', 'lime', 'lime', 'lime', 'lime', 'lime', 'lime', 'lime']\n"
     ]
    }
   ],
   "source": [
    "# cell types\n",
    "cell_type = list(diseases) \n",
    "print('cell_type:\\t'+str(cell_type))\n",
    "\n",
    "# idx_cell_type will be used to re-order the columns of data as a function of cell_type\n",
    "idx_cell_type = [0,1] # we don't want to re-order the first two columns (= gene name and identifier)\n",
    "\n",
    "# colors will be used when plotting the data (each cell type has a corresponding color)\n",
    "unique_colors = ['red','green','blue','cyan','magenta','yellow','purple','orange','lime']\n",
    "colors_cell_type = [] \n",
    "\n",
    "# for every type in cell_type, find the corresponding colums in data and add them to idx_cell_type\n",
    "for j,ct in enumerate(cell_type):\n",
    "    elements_cell_type = [ i+2 for i,c in enumerate(data_train[0,2:]) if id_cond_tissue[c]==ct]\n",
    "    idx_cell_type.extend(elements_cell_type)\n",
    "    for _ in range(len(elements_cell_type)):\n",
    "        colors_cell_type.append(unique_colors[j])\n",
    "print('\\nidx_cell_type:\\t'+str(idx_cell_type))    \n",
    "print('\\ncolors_cell_type:\\t'+str(colors_cell_type))\n",
    "\n",
    "# re-order columns of data (= conditions) with idx_cell_type\n",
    "data_train = data_train[:,idx_cell_type]"
   ]
  },
  {
   "cell_type": "code",
   "execution_count": 12,
   "id": "photographic-radiation",
   "metadata": {
    "pycharm": {
     "name": "#%%\n"
    }
   },
   "outputs": [
    {
     "data": {
      "text/plain": [
       "1372"
      ]
     },
     "execution_count": 12,
     "metadata": {},
     "output_type": "execute_result"
    },
    {
     "data": {
      "image/png": "[encoded data removed]",
      "text/plain": [
       "<Figure size 1080x360 with 1 Axes>"
      ]
     },
     "metadata": {
      "needs_background": "light"
     },
     "output_type": "display_data"
    }
   ],
   "source": [
    "def mean_expressions(data,colors_cell_type):\n",
    "    \n",
    "    data_separated = np.zeros(len(unique_colors))\n",
    "    for j,color in enumerate(unique_colors):\n",
    "        data_separated[j] = np.nanmean([float(data[i]) for i,c in enumerate(colors_cell_type) if c==color])\n",
    "        \n",
    "    return data_separated\n",
    "\n",
    "def plot_gene_expression_across_conditions(data,gene,cell_type,colors_cell_type):\n",
    "    \n",
    "    # find the line in data corresponding to our gene of interest and get the gene expression levels\n",
    "    idx_gene = [i for i,x in enumerate(data[:,0]) if x==gene][0]\n",
    "    data_to_show = (data_train[idx_gene,2:]).tolist() # remove the first two elements corresponding to gene name and identifier\n",
    "    data_to_show = np.array(data_to_show,dtype=float) # convert to float\n",
    "    \n",
    "    # plot the data\n",
    "    fig, ax = plt.subplots(figsize=(15, 5))\n",
    "    plt.bar(range(0,len(data_to_show)),data_to_show,color=colors_cell_type)\n",
    "    plt.title(data_train[idx_gene,1]+'  ( '+data_train[idx_gene,0]+' )')\n",
    "\n",
    "    # represent the mean gene expression in normal and cancer cells with a dashed line\n",
    "    means = mean_expressions(data_to_show,colors_cell_type)\n",
    "    first, last = (0,0)\n",
    "    xticks = []\n",
    "    for i,mean in enumerate(means):\n",
    "        color = unique_colors[i]\n",
    "        while last < len(colors_cell_type) and colors_cell_type[last] == color:\n",
    "            last += 1\n",
    "        xticks.append(first + ((last-first)/2))\n",
    "        plt.hlines(mean,first,last - 1,linestyles='--',color='black',lw=3) # draw a line to show mean(expression of cancer cells)\n",
    "        first = last\n",
    "        \n",
    "    ax.set_xticks(xticks)\n",
    "    ax.set_xticklabels([ct.replace(' ','\\n').replace('plus','+') for ct in cell_type])\n",
    "    ax.set_ylabel('Expression du gene (u.a.)')\n",
    "    \n",
    "    return idx_gene\n",
    "\n",
    "gene = '1554163_at'\n",
    "plot_gene_expression_across_conditions(data_train,gene,cell_type,colors_cell_type)\n",
    "# '1554165_at'"
   ]
  },
  {
   "cell_type": "code",
   "execution_count": null,
   "id": "bronze-paper",
   "metadata": {},
   "outputs": [],
   "source": []
  }
 ],
 "metadata": {
  "kernelspec": {
   "display_name": "Python 3",
   "language": "python",
   "name": "python3"
  },
  "language_info": {
   "codemirror_mode": {
    "name": "ipython",
    "version": 3
   },
   "file_extension": ".py",
   "mimetype": "text/x-python",
   "name": "python",
   "nbconvert_exporter": "python",
   "pygments_lexer": "ipython3",
   "version": "3.9.1"
  }
 },
 "nbformat": 4,
 "nbformat_minor": 5
}
