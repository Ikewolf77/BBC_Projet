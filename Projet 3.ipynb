{
 "cells": [
  {
   "cell_type": "markdown",
   "id": "following-parker",
   "metadata": {},
   "source": [
    "# Projet 3 : développer à partir de l’expression de gènes (puce à ADN) un outil de diagnostic, capable de prédire plusieurs types de cancer."
   ]
  },
  {
   "cell_type": "markdown",
   "id": "disturbed-pioneer",
   "metadata": {},
   "source": [
    "Etudiants :\n",
    "- Mattei Simon\n",
    "- Mercado Pablo"
   ]
  },
  {
   "cell_type": "markdown",
   "source": [
    "## Introduction\n",
    "### Un rappel sur ce qu'est le cancer\n",
    "Le cancer est la prolifération de cellules anormales dans un tissu. Elles peuvent utiliser le système sanguin pour voyager et aller affecter d'autres tissus. Certains cancers sont d'origine génétique et ils existent plusieurs facteurs de risques (consommation excessive de tabac et alcool, exposition au soleil, obésité...). Manger une [pomme](https://pubmed.ncbi.nlm.nih.gov/23091184/), faites de l'exercice et manger sainement pour éviter le cancer!\n",
    "\n",
    "Bien que l'âge ne soit pas la cause directe du cancer, on observe un taux d'incidence plus élevée chez les personnes agées. Avec le vieillissement de la population, la recherche du cancer est un domaine qui pourrait sauver beaucoup de vies.\n",
    "\n",
    "### Types de cancer\n",
    "On peut classer les [cancers](https://fr.wikipedia.org/wiki/Cancer) par les organes (et tissus) qu'ils touchent :\n",
    "*    le cancer du sein\n",
    "*    le cancer du côlon\n",
    "*    le cancer du pancréas\n",
    "*    le cancer de la prostate\n",
    "*    le cancer du cerveau\n",
    "*    le myélome multiple : cancer de la moelle osseuse\n",
    "*    les leucémies\n",
    "*    le sarcome de Kaposi : cancer des vaisseaux sanguins\n",
    "*    les lymphomes\n",
    "*    le cancer des testicules\n",
    "*    le cancer des poumons\n",
    "*    le cancer des reins\n",
    "*    le cancer du foie\n",
    "\n",
    "### Panel NCI60\n",
    "Le dataset utilisé prend des [lignées cellulaires (cell line)](https://fr.wikipedia.org/wiki/Lign%C3%A9e_cellulaire_(m%C3%A9decine)), c-à-d des cellules pouvant théoriquement se diviser à l'infini."
   ],
   "metadata": {
    "collapsed": false,
    "pycharm": {
     "name": "#%% md\n"
    }
   }
  },
  {
   "cell_type": "code",
   "execution_count": 1,
   "outputs": [],
   "source": [
    "import numpy as np"
   ],
   "metadata": {
    "collapsed": false,
    "pycharm": {
     "name": "#%%\n"
    }
   }
  },
  {
   "cell_type": "code",
   "execution_count": 2,
   "id": "adjusted-studio",
   "metadata": {},
   "outputs": [],
   "source": [
    "from Bio import Geo\n",
    "\n",
    "def load_geo(myfile):\n",
    "    handle = open(myfile)\n",
    "    records = Geo.parse(handle)\n",
    "    return records\n",
    "\n",
    "records = load_geo('GDS4296.soft')"
   ]
  },
  {
   "cell_type": "markdown",
   "source": [
    "On extrait quelques informations sur le panel..."
   ],
   "metadata": {
    "collapsed": false,
    "pycharm": {
     "name": "#%% md\n"
    }
   }
  },
  {
   "cell_type": "code",
   "execution_count": 3,
   "outputs": [
    {
     "name": "stdout",
     "output_type": "stream",
     "text": [
      "done reading\n"
     ]
    }
   ],
   "source": [
    "f = open(\"soft-info.txt\", \"w\")\n",
    "\n",
    "while True:\n",
    "    try:\n",
    "        nr = next(records)\n",
    "        f.write(str(nr))\n",
    "        f.write('\\n---------------------- ENTITY_ATTRIBUTES:------------------------------\\n')\n",
    "        f.write(str(nr.entity_attributes))\n",
    "    except StopIteration:\n",
    "        print(\"done reading\")\n",
    "        break"
   ],
   "metadata": {
    "collapsed": false,
    "pycharm": {
     "name": "#%%\n"
    }
   }
  },
  {
   "cell_type": "markdown",
   "source": [
    "Extrayons les données utiles: niveaux d'expressions des conditions et sources des conditions."
   ],
   "metadata": {
    "collapsed": false,
    "pycharm": {
     "name": "#%% md\n"
    }
   }
  },
  {
   "cell_type": "code",
   "execution_count": 4,
   "outputs": [
    {
     "name": "stdout",
     "output_type": "stream",
     "text": [
      "174\n"
     ]
    }
   ],
   "source": [
    "records = load_geo('GDS4296.soft')\n",
    "\n",
    "# description of each condition (cell type)\n",
    "id_cond_tissue = {}\n",
    "\n",
    "diseases = set()\n",
    "#disease_with_details = set()\n",
    "\n",
    "# loop over records\n",
    "for r in records:\n",
    "    rea = r.entity_attributes\n",
    "\n",
    "    # condition for cell type/tissue/disease state\n",
    "    if 'subset_dataset_id' in rea:\n",
    "        sample_list = rea['subset_sample_id'].split(',')\n",
    "        desc = rea['subset_description']\n",
    "\n",
    "        if rea['subset_type'] == 'tissue':\n",
    "            for sample in sample_list:\n",
    "                id_cond_tissue[sample] = desc\n",
    "                diseases.add(desc)\n",
    "\n",
    "        # si l'on veut plus de détail sur la variété de cancer\n",
    "        # e.g. https://fr.wikipedia.org/wiki/Astrocytome\n",
    "        #if rea['subset_type'] == 'disease state':\n",
    "            #for sample in sample_list:\n",
    "                #id_cond_disease[sample] = desc\n",
    "                #disease_with_details.add(desc)\n",
    "\n",
    "    if 'dataset_table_begin' in rea:\n",
    "        data = r.table_rows\n",
    "\n",
    "# converts data to an array (more practical to handle)\n",
    "data = np.array(data)\n",
    "print(len(id_cond_tissue))"
   ],
   "metadata": {
    "collapsed": false,
    "pycharm": {
     "name": "#%%\n"
    }
   }
  },
  {
   "cell_type": "markdown",
   "source": [
    "On désire connaître la proportion de cancer répertorié dans les échantillons. Histoire de vérifier qu'il y a suffisamment d'échantillons pour faire notre classificateur."
   ],
   "metadata": {
    "collapsed": false,
    "pycharm": {
     "name": "#%% md\n"
    }
   }
  },
  {
   "cell_type": "code",
   "execution_count": 5,
   "outputs": [
    {
     "name": "stdout",
     "output_type": "stream",
     "text": [
      "     Cancer location       # échantillons \tquantité (%)\n",
      "------------------------------------------------------------------\n",
      "               colon                   21 \t 12.07\n",
      "            leukemia                   18 \t 10.34\n",
      "            prostate                    6 \t 3.45\n",
      "               renal                   23 \t 13.22\n",
      "                 CNS                   18 \t 10.34\n",
      " non-small cell lung                   26 \t 14.94\n",
      "             ovarian                   21 \t 12.07\n",
      "            melanoma                   26 \t 14.94\n",
      "              breast                   15 \t 8.62\n"
     ]
    }
   ],
   "source": [
    "cancer_sample_count = {}\n",
    "for cancer in diseases:\n",
    "    cancer_sample_count[cancer] = 0\n",
    "    for sample in id_cond_tissue:\n",
    "        if cancer == id_cond_tissue[sample]:\n",
    "            cancer_sample_count[cancer] = cancer_sample_count[cancer] + 1\n",
    "\n",
    "total_sample = len(id_cond_tissue)\n",
    "\n",
    "print(\"{: >20} {: >20}\".format(\"Cancer location\", '# échantillons'), '\\tquantité (%)')\n",
    "print('------------------------------------------------------------------')\n",
    "for cancer in cancer_sample_count:\n",
    "    print(\"{: >20} {: >20}\".format(cancer, cancer_sample_count[cancer]), '\\t', \"{0:.2f}\".format(cancer_sample_count[cancer]/total_sample*100))"
   ],
   "metadata": {
    "collapsed": false,
    "pycharm": {
     "name": "#%%\n"
    }
   }
  },
  {
   "cell_type": "markdown",
   "source": [
    "Seul les échantillons de la prostate sont en petites quantités (3% de l'échantillonage)."
   ],
   "metadata": {
    "collapsed": false,
    "pycharm": {
     "name": "#%% md\n"
    }
   }
  },
  {
   "cell_type": "markdown",
   "source": [
    "Afin de mener nos recherches en étant objectif, on divise notre jeu de données en données de train et données de test:"
   ],
   "metadata": {
    "collapsed": false,
    "pycharm": {
     "name": "#%% md\n"
    }
   }
  },
  {
   "cell_type": "code",
   "execution_count": 6,
   "outputs": [
    {
     "name": "stdout",
     "output_type": "stream",
     "text": [
      "(54676, 144)\n",
      "(54676, 32)\n"
     ]
    }
   ],
   "source": [
    "import random\n",
    "\n",
    "# init dictionnary with disease - empty list\n",
    "diseases_cond = {}\n",
    "for disease in diseases:\n",
    "    diseases_cond[disease] = []\n",
    "\n",
    "# add every condition to dictionnary\n",
    "for cond in id_cond_tissue:\n",
    "    diseases_cond[id_cond_tissue[cond]].append(cond)\n",
    "\n",
    "# shuffle conditions and add them to train/test conditions\n",
    "test_conds = []\n",
    "train_conds = []\n",
    "for disease in diseases_cond:\n",
    "    random.shuffle(diseases_cond[disease])\n",
    "    idx_sep = int(len(diseases_cond[disease]) / 5) # 80/20%\n",
    "    test_conds += diseases_cond[disease][:idx_sep]\n",
    "    train_conds += diseases_cond[disease][idx_sep:]\n",
    "\n",
    "# seperate data according to conditions\n",
    "idx_test = []\n",
    "for cond in test_conds:\n",
    "    idx_test.append(data[0,:].tolist().index(cond))\n",
    "\n",
    "idx_train = list(range(0,len(id_cond_tissue)+2))\n",
    "[idx_train.remove(i) for i in idx_test]\n",
    "\n",
    "data_test = data[:,idx_test]\n",
    "data_train = data[:,idx_train]\n",
    "\n",
    "print(np.shape(data_train))\n",
    "print(np.shape(data_test))"
   ],
   "metadata": {
    "collapsed": false,
    "pycharm": {
     "name": "#%%\n"
    }
   }
  },
  {
   "cell_type": "markdown",
   "source": [
    "On veut sélectionner les gènes pertinents dans notre jeu de train pour former notre classificateur. Affichons déjà les niveaux d'expression pour un gène aux travers des échantillons:"
   ],
   "metadata": {
    "collapsed": false,
    "pycharm": {
     "name": "#%% md\n"
    }
   }
  },
  {
   "cell_type": "code",
   "execution_count": null,
   "outputs": [],
   "source": [
    "unique_colors = ['c','g','r','b','k']\n",
    "colors_disease_type = []\n",
    "\n",
    "# for every type in cell_type, find the corresponding colums in data and add them to idx_cell_type\n",
    "for j,ct in enumerate(cell_type):\n",
    "    elements_cell_type = [ i+2 for i,c in enumerate(data[0,2:]) if id_cond[c]==ct]\n",
    "    idx_cell_type.extend(elements_cell_type)\n",
    "    colors_cell_type.extend(unique_colors[j]*len(elements_cell_type))\n",
    "print('\\nidx_cell_type:\\t'+str(idx_cell_type))\n",
    "print('\\ncolors_cell_type:\\t'+str(colors_cell_type))\n",
    "\n",
    "# re-order columns of data (= conditions) with idx_cell_type\n",
    "data = data[:,idx_cell_type]"
   ],
   "metadata": {
    "collapsed": false,
    "pycharm": {
     "name": "#%%\n"
    }
   }
  },
  {
   "cell_type": "code",
   "execution_count": 7,
   "outputs": [
    {
     "ename": "NameError",
     "evalue": "name 'test_data' is not defined",
     "output_type": "error",
     "traceback": [
      "\u001B[0;31m---------------------------------------------------------------------------\u001B[0m",
      "\u001B[0;31mNameError\u001B[0m                                 Traceback (most recent call last)",
      "\u001B[0;32m<ipython-input-7-dda92ba556f9>\u001B[0m in \u001B[0;36m<module>\u001B[0;34m\u001B[0m\n\u001B[1;32m      3\u001B[0m \u001B[0;34m\u001B[0m\u001B[0m\n\u001B[1;32m      4\u001B[0m \u001B[0mgene\u001B[0m \u001B[0;34m=\u001B[0m \u001B[0;34m'1007_s_at'\u001B[0m\u001B[0;34m\u001B[0m\u001B[0;34m\u001B[0m\u001B[0m\n\u001B[0;32m----> 5\u001B[0;31m \u001B[0mplot_gene_expression_across_conditions\u001B[0m\u001B[0;34m(\u001B[0m\u001B[0mtest_data\u001B[0m\u001B[0;34m,\u001B[0m \u001B[0mgene\u001B[0m\u001B[0;34m,\u001B[0m \u001B[0mdiseases\u001B[0m\u001B[0;34m,\u001B[0m \u001B[0;34m)\u001B[0m\u001B[0;34m\u001B[0m\u001B[0;34m\u001B[0m\u001B[0m\n\u001B[0m",
      "\u001B[0;31mNameError\u001B[0m: name 'test_data' is not defined"
     ]
    }
   ],
   "source": [
    "def plot_gene_expression_across_conditions(data, gene, cancer_type, colors_cancer_type):\n",
    "    print()\n",
    "\n",
    "gene = '1007_s_at'\n",
    "\n",
    "plot_gene_expression_across_conditions(test_data, gene, diseases, )"
   ],
   "metadata": {
    "collapsed": false,
    "pycharm": {
     "name": "#%%\n"
    }
   }
  }
 ],
 "metadata": {
  "kernelspec": {
   "display_name": "Python 3",
   "language": "python",
   "name": "python3"
  },
  "language_info": {
   "codemirror_mode": {
    "name": "ipython",
    "version": 3
   },
   "file_extension": ".py",
   "mimetype": "text/x-python",
   "name": "python",
   "nbconvert_exporter": "python",
   "pygments_lexer": "ipython3",
   "version": "3.9.1"
  }
 },
 "nbformat": 4,
 "nbformat_minor": 5
}