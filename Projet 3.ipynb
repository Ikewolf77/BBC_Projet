{
 "cells": [
  {
   "cell_type": "markdown",
   "id": "following-parker",
   "metadata": {},
   "source": [
    "# Projet 3 : développer à partir de l’expression de gènes (puce à ADN) un outil de diagnostic, capable de prédire plusieurs types de cancer."
   ]
  },
  {
   "cell_type": "markdown",
   "id": "disturbed-pioneer",
   "metadata": {},
   "source": [
    "Etudiants :\n",
    "- Mattei Simon\n",
    "- Mercado Pablo"
   ]
  },
  {
   "cell_type": "markdown",
   "id": "elegant-parameter",
   "metadata": {
    "pycharm": {
     "name": "#%% md\n"
    }
   },
   "source": [
    "## Introduction\n",
    "### Un rappel sur ce qu'est le cancer\n",
    "Le cancer est la prolifération de cellules anormales dans un tissu. Elles peuvent utiliser le système sanguin pour voyager et aller affecter d'autres tissus. Certains cancers sont d'origine génétique et ils existent plusieurs facteurs de risques (consommation excessive de tabac et alcool, exposition au soleil, obésité...). Manger une [pomme](https://pubmed.ncbi.nlm.nih.gov/23091184/), faites de l'exercice et manger sainement pour éviter le cancer!\n",
    "\n",
    "Bien que l'âge ne soit pas la cause directe du cancer, on observe un taux d'incidence plus élevée chez les personnes agées. Avec le vieillissement de la population, la recherche du cancer est un domaine qui pourrait sauver beaucoup de vies.\n",
    "\n",
    "### Types de cancer\n",
    "On peut classer les [cancers](https://fr.wikipedia.org/wiki/Cancer) par les organes (et tissus) qu'ils touchent :\n",
    "*    le cancer du sein\n",
    "*    le cancer du côlon\n",
    "*    le cancer du pancréas\n",
    "*    le cancer de la prostate\n",
    "*    le cancer du cerveau\n",
    "*    le myélome multiple : cancer de la moelle osseuse\n",
    "*    les leucémies\n",
    "*    le sarcome de Kaposi : cancer des vaisseaux sanguins\n",
    "*    les lymphomes\n",
    "*    le cancer des testicules\n",
    "*    le cancer des poumons\n",
    "*    le cancer des reins\n",
    "*    le cancer du foie\n",
    "\n",
    "### Panel NCI60\n",
    "Le dataset utilisé prend des [lignées cellulaires (cell line)](https://fr.wikipedia.org/wiki/Lign%C3%A9e_cellulaire_(m%C3%A9decine)), c-à-d des cellules pouvant théoriquement se diviser à l'infini."
   ]
  },
  {
   "cell_type": "code",
   "execution_count": 1,
   "id": "sustainable-anime",
   "metadata": {
    "pycharm": {
     "name": "#%%\n"
    }
   },
   "outputs": [],
   "source": [
    "import os\n",
    "import numpy as np\n",
    "import pylab as plt\n",
    "%matplotlib inline\n",
    "import pandas as pd"
   ]
  },
  {
   "cell_type": "code",
   "execution_count": 2,
   "id": "adjusted-studio",
   "metadata": {},
   "outputs": [],
   "source": [
    "from Bio import Geo\n",
    "\n",
    "def load_geo(myfile):\n",
    "    handle = open(myfile)\n",
    "    records = Geo.parse(handle)\n",
    "    return records\n",
    "\n",
    "records = load_geo('GDS4296.soft')"
   ]
  },
  {
   "cell_type": "markdown",
   "id": "wrapped-front",
   "metadata": {
    "pycharm": {
     "name": "#%% md\n"
    }
   },
   "source": [
    "On extrait quelques informations sur le panel..."
   ]
  },
  {
   "cell_type": "code",
   "execution_count": 3,
   "id": "suffering-humor",
   "metadata": {
    "pycharm": {
     "name": "#%%\n"
    }
   },
   "outputs": [
    {
     "name": "stdout",
     "output_type": "stream",
     "text": [
      "done reading\n"
     ]
    }
   ],
   "source": [
    "f = open(\"soft-info.txt\", \"w\")\n",
    "\n",
    "while True:\n",
    "    try:\n",
    "        nr = next(records)\n",
    "        f.write(str(nr))\n",
    "        f.write('\\n---------------------- ENTITY_ATTRIBUTES:------------------------------\\n')\n",
    "        f.write(str(nr.entity_attributes))\n",
    "    except StopIteration:\n",
    "        print(\"done reading\")\n",
    "        break"
   ]
  },
  {
   "cell_type": "markdown",
   "id": "southern-script",
   "metadata": {
    "pycharm": {
     "name": "#%% md\n"
    }
   },
   "source": [
    "Extrayons les données utiles: niveaux d'expressions des conditions et sources des conditions."
   ]
  },
  {
   "cell_type": "code",
   "execution_count": 4,
   "id": "potential-yugoslavia",
   "metadata": {
    "pycharm": {
     "name": "#%%\n"
    }
   },
   "outputs": [
    {
     "name": "stdout",
     "output_type": "stream",
     "text": [
      "174\n"
     ]
    }
   ],
   "source": [
    "records = load_geo('GDS4296.soft')\n",
    "\n",
    "# description of each condition (cell type)\n",
    "id_cond_tissue = {}\n",
    "diseases = set()\n",
    "\n",
    "# loop over records\n",
    "for r in records:\n",
    "    rea = r.entity_attributes\n",
    "\n",
    "    # condition for cell type/tissue/disease state\n",
    "    if 'subset_dataset_id' in rea:\n",
    "        sample_list = rea['subset_sample_id'].split(',')\n",
    "        desc = rea['subset_description']\n",
    "\n",
    "        if rea['subset_type'] == 'tissue':\n",
    "            for sample in sample_list:\n",
    "                id_cond_tissue[sample] = desc\n",
    "                diseases.add(desc)\n",
    "\n",
    "        # si l'on veut plus de détail sur la variété de cancer\n",
    "        # e.g. https://fr.wikipedia.org/wiki/Astrocytome\n",
    "        #if rea['subset_type'] == 'disease state':\n",
    "            #for sample in sample_list:\n",
    "                #id_cond_disease[sample] = desc\n",
    "                #disease_with_details.add(desc)\n",
    "\n",
    "    if 'dataset_table_begin' in rea:\n",
    "        data = r.table_rows\n",
    "\n",
    "# converts data to an array (more practical to handle)\n",
    "data = np.array(data)\n",
    "print(len(id_cond_tissue))"
   ]
  },
  {
   "cell_type": "markdown",
   "id": "inappropriate-traveler",
   "metadata": {
    "pycharm": {
     "name": "#%% md\n"
    }
   },
   "source": [
    "On désire connaître la proportion de cancer répertorié dans les échantillons. Histoire de vérifier qu'il y a suffisamment d'échantillons pour faire notre classificateur."
   ]
  },
  {
   "cell_type": "code",
   "execution_count": 5,
   "id": "rotary-liechtenstein",
   "metadata": {
    "pycharm": {
     "name": "#%%\n"
    }
   },
   "outputs": [
    {
     "name": "stdout",
     "output_type": "stream",
     "text": [
      "     Cancer location       # échantillons \tquantité (%)\n",
      "------------------------------------------------------------------\n",
      "               renal                   23 \t 13.22\n",
      "            melanoma                   26 \t 14.94\n",
      "             ovarian                   21 \t 12.07\n",
      "            prostate                    6 \t 3.45\n",
      "              breast                   15 \t 8.62\n",
      "            leukemia                   18 \t 10.34\n",
      "                 CNS                   18 \t 10.34\n",
      " non-small cell lung                   26 \t 14.94\n",
      "               colon                   21 \t 12.07\n"
     ]
    }
   ],
   "source": [
    "cancer_sample_count = {}\n",
    "for cancer in diseases:\n",
    "    cancer_sample_count[cancer] = 0\n",
    "    for sample in id_cond_tissue:\n",
    "        if cancer == id_cond_tissue[sample]:\n",
    "            cancer_sample_count[cancer] = cancer_sample_count[cancer] + 1\n",
    "\n",
    "total_sample = len(id_cond_tissue)\n",
    "\n",
    "print(\"{: >20} {: >20}\".format(\"Cancer location\", '# échantillons'), '\\tquantité (%)')\n",
    "print('------------------------------------------------------------------')\n",
    "for cancer in cancer_sample_count:\n",
    "    print(\"{: >20} {: >20}\".format(cancer, cancer_sample_count[cancer]), '\\t', \"{0:.2f}\".format(cancer_sample_count[cancer]/total_sample*100))"
   ]
  },
  {
   "cell_type": "markdown",
   "id": "considerable-south",
   "metadata": {
    "pycharm": {
     "name": "#%% md\n"
    }
   },
   "source": [
    "Seul les échantillons de la prostate sont en petites quantités (3% de l'échantillonage)."
   ]
  },
  {
   "cell_type": "markdown",
   "id": "killing-trial",
   "metadata": {
    "pycharm": {
     "name": "#%% md\n"
    }
   },
   "source": [
    "Afin de mener nos recherches en étant objectif, on divise notre jeu de données en données de train et données de test:"
   ]
  },
  {
   "cell_type": "code",
   "execution_count": 6,
   "id": "pharmaceutical-recording",
   "metadata": {
    "pycharm": {
     "name": "#%%\n"
    }
   },
   "outputs": [
    {
     "name": "stdout",
     "output_type": "stream",
     "text": [
      "(54676, 144)\n",
      "(54676, 32)\n"
     ]
    }
   ],
   "source": [
    "import random\n",
    "random.seed(5) #if you change this you will get different gene selection each time prob\n",
    "\n",
    "# init dictionnary with disease - empty list\n",
    "diseases_cond = {}\n",
    "for disease in diseases:\n",
    "    diseases_cond[disease] = []\n",
    "\n",
    "# add every condition to dictionnary\n",
    "for cond in id_cond_tissue:\n",
    "    diseases_cond[id_cond_tissue[cond]].append(cond)\n",
    "\n",
    "# shuffle conditions and add them to train/test conditions\n",
    "test_conds = []\n",
    "train_conds = []\n",
    "for disease in diseases_cond:\n",
    "    random.shuffle(diseases_cond[disease])\n",
    "    idx_sep = int(len(diseases_cond[disease]) / 5) # 80/20%\n",
    "    test_conds += diseases_cond[disease][:idx_sep]\n",
    "    train_conds += diseases_cond[disease][idx_sep:]\n",
    "\n",
    "# seperate data according to conditions\n",
    "idx_test = []\n",
    "for cond in test_conds:\n",
    "    idx_test.append(data[0,:].tolist().index(cond))\n",
    "\n",
    "idx_train = list(range(0,len(id_cond_tissue)+2))\n",
    "[idx_train.remove(i) for i in idx_test]\n",
    "\n",
    "data_test = data[:,idx_test]\n",
    "data_train = data[:,idx_train]\n",
    "\n",
    "print(np.shape(data_train))\n",
    "print(np.shape(data_test))"
   ]
  },
  {
   "cell_type": "markdown",
   "id": "becoming-scottish",
   "metadata": {
    "pycharm": {
     "name": "#%% md\n"
    }
   },
   "source": [
    "On veut sélectionner les gènes pertinents dans notre jeu de train pour former notre classificateur. Affichons déjà les niveaux d'expression pour un gène aux travers des échantillons:"
   ]
  },
  {
   "cell_type": "code",
   "execution_count": 7,
   "id": "accessible-hunger",
   "metadata": {
    "pycharm": {
     "name": "#%%\n"
    }
   },
   "outputs": [
    {
     "name": "stdout",
     "output_type": "stream",
     "text": [
      "cell_type:\t['renal', 'melanoma', 'ovarian', 'prostate', 'breast', 'leukemia', 'CNS', 'non-small cell lung', 'colon']\n",
      "\n",
      "idx_cell_type:\t[0, 1, 61, 62, 63, 64, 65, 66, 67, 68, 69, 70, 71, 72, 73, 74, 75, 76, 77, 78, 79, 28, 121, 122, 123, 124, 125, 126, 127, 128, 129, 130, 131, 132, 133, 134, 135, 136, 137, 138, 139, 140, 24, 25, 101, 102, 103, 104, 105, 106, 107, 108, 109, 110, 111, 112, 113, 114, 115, 116, 117, 118, 119, 120, 17, 18, 19, 20, 21, 22, 23, 26, 27, 141, 142, 143, 2, 3, 4, 5, 6, 7, 8, 9, 10, 11, 12, 13, 14, 15, 16, 29, 30, 31, 32, 33, 34, 35, 36, 37, 38, 39, 40, 41, 42, 43, 80, 81, 82, 83, 84, 85, 86, 87, 88, 89, 90, 91, 92, 93, 94, 95, 96, 97, 98, 99, 100, 44, 45, 46, 47, 48, 49, 50, 51, 52, 53, 54, 55, 56, 57, 58, 59, 60]\n",
      "\n",
      "colors_cell_type:\t['red', 'red', 'red', 'red', 'red', 'red', 'red', 'red', 'red', 'red', 'red', 'red', 'red', 'red', 'red', 'red', 'red', 'red', 'red', 'green', 'green', 'green', 'green', 'green', 'green', 'green', 'green', 'green', 'green', 'green', 'green', 'green', 'green', 'green', 'green', 'green', 'green', 'green', 'green', 'green', 'blue', 'blue', 'blue', 'blue', 'blue', 'blue', 'blue', 'blue', 'blue', 'blue', 'blue', 'blue', 'blue', 'blue', 'blue', 'blue', 'blue', 'cyan', 'cyan', 'cyan', 'cyan', 'cyan', 'magenta', 'magenta', 'magenta', 'magenta', 'magenta', 'magenta', 'magenta', 'magenta', 'magenta', 'magenta', 'magenta', 'magenta', 'yellow', 'yellow', 'yellow', 'yellow', 'yellow', 'yellow', 'yellow', 'yellow', 'yellow', 'yellow', 'yellow', 'yellow', 'yellow', 'yellow', 'yellow', 'purple', 'purple', 'purple', 'purple', 'purple', 'purple', 'purple', 'purple', 'purple', 'purple', 'purple', 'purple', 'purple', 'purple', 'purple', 'orange', 'orange', 'orange', 'orange', 'orange', 'orange', 'orange', 'orange', 'orange', 'orange', 'orange', 'orange', 'orange', 'orange', 'orange', 'orange', 'orange', 'orange', 'orange', 'orange', 'orange', 'lime', 'lime', 'lime', 'lime', 'lime', 'lime', 'lime', 'lime', 'lime', 'lime', 'lime', 'lime', 'lime', 'lime', 'lime', 'lime', 'lime']\n"
     ]
    }
   ],
   "source": [
    "# cell types\n",
    "cell_type = list(diseases) \n",
    "print('cell_type:\\t'+str(cell_type))\n",
    "\n",
    "# idx_cell_type will be used to re-order the columns of data as a function of cell_type\n",
    "idx_cell_type = [0,1] # we don't want to re-order the first two columns (= gene name and identifier)\n",
    "\n",
    "# colors will be used when plotting the data (each cell type has a corresponding color)\n",
    "unique_colors = ['red','green','blue','cyan','magenta','yellow','purple','orange','lime']\n",
    "colors_cell_type = [] \n",
    "\n",
    "# for every type in cell_type, find the corresponding colums in data and add them to idx_cell_type\n",
    "for j,ct in enumerate(cell_type):\n",
    "    elements_cell_type = [ i+2 for i,c in enumerate(data_train[0,2:]) if id_cond_tissue[c]==ct]\n",
    "    idx_cell_type.extend(elements_cell_type)\n",
    "    for _ in range(len(elements_cell_type)):\n",
    "        colors_cell_type.append(unique_colors[j])\n",
    "print('\\nidx_cell_type:\\t'+str(idx_cell_type))    \n",
    "print('\\ncolors_cell_type:\\t'+str(colors_cell_type))\n",
    "\n",
    "# re-order columns of data (= conditions) with idx_cell_type\n",
    "data_train = data_train[:,idx_cell_type]"
   ]
  },
  {
   "cell_type": "code",
   "execution_count": 8,
   "id": "photographic-radiation",
   "metadata": {
    "pycharm": {
     "name": "#%%\n"
    }
   },
   "outputs": [
    {
     "data": {
      "text/plain": [
       "1372"
      ]
     },
     "execution_count": 8,
     "metadata": {},
     "output_type": "execute_result"
    },
    {
     "data": {
      "image/png": "[encoded data removed]",
      "text/plain": [
       "<Figure size 1080x360 with 1 Axes>"
      ]
     },
     "metadata": {
      "needs_background": "light"
     },
     "output_type": "display_data"
    }
   ],
   "source": [
    "def mean_expressions(data,colors_cell_type):\n",
    "    \n",
    "    data_separated = np.zeros(len(unique_colors))\n",
    "    for j,color in enumerate(unique_colors):\n",
    "        data_separated[j] = np.nanmean([float(data[i]) for i,c in enumerate(colors_cell_type) if c==color])\n",
    "        \n",
    "    return data_separated\n",
    "\n",
    "def plot_gene_expression_across_conditions(data,gene,cell_type,colors_cell_type):\n",
    "    \n",
    "    # find the line in data corresponding to our gene of interest and get the gene expression levels\n",
    "    idx_gene = [i for i,x in enumerate(data[:,0]) if x==gene][0]\n",
    "    data_to_show = (data_train[idx_gene,2:]).tolist() # remove the first two elements corresponding to gene name and identifier\n",
    "    data_to_show = np.array(data_to_show,dtype=float) # convert to float\n",
    "    \n",
    "    # plot the data\n",
    "    fig, ax = plt.subplots(figsize=(15, 5))\n",
    "    plt.bar(range(0,len(data_to_show)),data_to_show,color=colors_cell_type)\n",
    "    plt.title(data_train[idx_gene,1]+'  ( '+data_train[idx_gene,0]+' )')\n",
    "\n",
    "    # represent the mean gene expression in normal and cancer cells with a dashed line\n",
    "    means = mean_expressions(data_to_show,colors_cell_type)\n",
    "    first, last = (0,0)\n",
    "    xticks = []\n",
    "    for i,mean in enumerate(means):\n",
    "        color = unique_colors[i]\n",
    "        while last < len(colors_cell_type) and colors_cell_type[last] == color:\n",
    "            last += 1\n",
    "        xticks.append(first + ((last-first)/2))\n",
    "        plt.hlines(mean,first,last - 1,linestyles='--',color='black',lw=3) # draw a line to show mean(expression of cancer cells)\n",
    "        first = last\n",
    "        \n",
    "    ax.set_xticks(xticks)\n",
    "    ax.set_xticklabels([ct.replace(' ','\\n').replace('plus','+') for ct in cell_type])\n",
    "    ax.set_ylabel('Expression du gene (u.a.)')\n",
    "    \n",
    "    return idx_gene\n",
    "\n",
    "gene = '1554163_at'\n",
    "plot_gene_expression_across_conditions(data_train,gene,cell_type,colors_cell_type)\n",
    "# '1554165_at'"
   ]
  },
  {
   "cell_type": "code",
   "execution_count": 17,
   "id": "bronze-paper",
   "metadata": {},
   "outputs": [
    {
     "name": "stdout",
     "output_type": "stream",
     "text": [
      "[0, 0, 0, 0, 0, 0, 0, 0, 0, 0, 0, 0, 0, 0, 0, 0, 0, 0, 0, 0, 0, 0, 0, 0, 0, 0, 0, 0, 0, 0, 0, 0, 0, 0, 0, 0, 0, 0, 0, 0, 0, 0, 0, 0, 0, 0, 0, 0, 0, 0, 0, 0, 0, 0, 0, 0, 0, 0, 0, 0, 0, 0, 1, 1, 1, 1, 1, 1, 1, 1, 1, 1, 1, 1, 0, 0, 0, 0, 0, 0, 0, 0, 0, 0, 0, 0, 0, 0, 0, 0, 0, 0, 0, 0, 0, 0, 0, 0, 0, 0, 0, 0, 0, 0, 0, 0, 0, 0, 0, 0, 0, 0, 0, 0, 0, 0, 0, 0, 0, 0, 0, 0, 0, 0, 0, 0, 0, 0, 0, 0, 0, 0, 0, 0, 0, 0, 0, 0, 0, 0, 0, 0]\n",
      "[1, 1, 1, 1, 1, 1, 1, 1, 1, 1, 1, 1, 1, 1, 1, 1, 1, 1, 1, 0, 0, 0, 0, 0, 0, 0, 0, 0, 0, 0, 0, 0, 0, 0, 0, 0, 0, 0, 0, 0, 0, 0, 0, 0, 0, 0, 0, 0, 0, 0, 0, 0, 0, 0, 0, 0, 0, 0, 0, 0, 0, 0, 0, 0, 0, 0, 0, 0, 0, 0, 0, 0, 0, 0, 0, 0, 0, 0, 0, 0, 0, 0, 0, 0, 0, 0, 0, 0, 0, 0, 0, 0, 0, 0, 0, 0, 0, 0, 0, 0, 0, 0, 0, 0, 0, 0, 0, 0, 0, 0, 0, 0, 0, 0, 0, 0, 0, 0, 0, 0, 0, 0, 0, 0, 0, 0, 0, 0, 0, 0, 0, 0, 0, 0, 0, 0, 0, 0, 0, 0, 0, 0]\n"
     ]
    }
   ],
   "source": [
    "desired_profiles = {}\n",
    "for disease in diseases:\n",
    "    desired_profiles[disease] = [1 if id_cond_tissue[s]==disease else 0 for s in data_train[0,2:]]\n",
    "    \n",
    "print(desired_profiles['breast'])\n",
    "print(desired_profiles['renal'])"
   ]
  },
  {
   "cell_type": "code",
   "execution_count": 18,
   "id": "usual-lotus",
   "metadata": {},
   "outputs": [],
   "source": [
    "def pearson_genes(data,desired_profile,show_plot=1):\n",
    "\n",
    "    import scipy.stats as ss\n",
    "\n",
    "    correl = [] # contains the correlation for each gene\n",
    "    correl_p  = [] # for now, do not try to understand what correl_p is...\n",
    "    \n",
    "    # loop over genes\n",
    "    for i in range(np.shape(data)[0]-1): # do not consider first line of data (=header)\n",
    "        \n",
    "        gene_expression = data[i+1,2:] # do not consider first two columns (= gene identifiers)\n",
    "        gene_expression = np.array(gene_expression,dtype=float) # convert to float\n",
    "        \n",
    "        pearson_corr = ss.pearsonr(gene_expression,desired_profile) # calculate Pearson correlation\n",
    "        correl.append(pearson_corr[0])\n",
    "        correl_p.append(pearson_corr[1]) # forget about this for now...\n",
    "        \n",
    "    correl = np.array(correl,dtype=float) # convert to array... easier to manipulate\n",
    "    \n",
    "    # plot correlation values\n",
    "    if show_plot:\n",
    "        fig = plt.figure()\n",
    "        plt.plot(correl,'bo')\n",
    "        plt.ylim([-1,1])\n",
    "        plt.xlim([0,len(correl)])\n",
    "        plt.xlabel('Gene index')\n",
    "        plt.ylabel('Pearson correlation')\n",
    "        plt.show()\n",
    "        \n",
    "        plt.figure()\n",
    "        plt.hist(correl)\n",
    "        plt.xlabel('Pearson correlation')\n",
    "        plt.ylabel('Counts')\n",
    "        plt.xlim([-1,1])\n",
    "        plt.show()\n",
    "\n",
    "    return (correl,correl_p)"
   ]
  },
  {
   "cell_type": "code",
   "execution_count": 22,
   "id": "clinical-meeting",
   "metadata": {},
   "outputs": [],
   "source": [
    "correlations = {}\n",
    "for disease in diseases:\n",
    "    correlations[disease] = pearson_genes(data_train,desired_profiles[disease],show_plot=False)[0]"
   ]
  },
  {
   "cell_type": "code",
   "execution_count": 26,
   "id": "representative-complaint",
   "metadata": {},
   "outputs": [
    {
     "name": "stdout",
     "output_type": "stream",
     "text": [
      "Correlation values for breast :  [ 0.16182928 -0.11862941  0.02823537 ...  0.00335936 -0.06565206\n",
      " -0.04111609]\n"
     ]
    }
   ],
   "source": [
    "print(\"Correlation values for breast : \", correlations['breast'])"
   ]
  },
  {
   "cell_type": "markdown",
   "id": "impaired-folks",
   "metadata": {},
   "source": [
    "Comparaison à des valeurs aléatoires et première sélection de gènes pour chaque maladie"
   ]
  },
  {
   "cell_type": "code",
   "execution_count": 51,
   "id": "paperback-information",
   "metadata": {},
   "outputs": [],
   "source": [
    "def shuffle_data(data):\n",
    "    \n",
    "    from random import shuffle\n",
    "    \n",
    "    # get shuffled columns indexes\n",
    "    shuffled_idx = list(range(2,np.shape(data)[1])) # ! do not shuffle the first two colums (= gene identifiers)\n",
    "    shuffle(shuffled_idx) # shuffled_idx is now shuffled\n",
    "    shuffled_idx.insert(0,0)\n",
    "    shuffled_idx.insert(1,1)\n",
    "\n",
    "    # use shuffled_idx to randomize the columns of data\n",
    "    data_random = data[:,shuffled_idx]\n",
    "    data_random[0,:] = data[0,:] # put label conditons on top again\n",
    "\n",
    "    return data_random"
   ]
  },
  {
   "cell_type": "code",
   "execution_count": 52,
   "id": "undefined-riding",
   "metadata": {},
   "outputs": [],
   "source": [
    "def compare_to_random_data(disease, show_plot=False):\n",
    "    data_random = shuffle_data(data_train)\n",
    "    corr_random = pearson_genes(data_random,desired_profiles[disease],show_plot=False)[0]\n",
    "\n",
    "    if show_plot:\n",
    "        corr_normal = correlations[disease]\n",
    "        plt.figure()\n",
    "        plt.title(f\"First random generation for {disease}\")\n",
    "        plt.hist(corr_normal,label=\"normal\")\n",
    "        plt.hist(corr_random,label=\"random\")\n",
    "        plt.legend()\n",
    "        plt.xlabel('Pearson correlation')\n",
    "        plt.ylabel('Counts')\n",
    "        plt.xlim([-1,1])\n",
    "        plt.show()\n",
    "    \n",
    "    return corr_random"
   ]
  },
  {
   "cell_type": "code",
   "execution_count": 53,
   "id": "joined-bracelet",
   "metadata": {},
   "outputs": [
    {
     "name": "stdout",
     "output_type": "stream",
     "text": [
      "[ 0.05815988  0.03752394 -0.01849655 ...  0.11601825  0.0158126\n",
      "  0.02539695]\n"
     ]
    }
   ],
   "source": [
    "print(compare_to_random_data('breast', show_plot=False))"
   ]
  },
  {
   "cell_type": "markdown",
   "id": "needed-moscow",
   "metadata": {},
   "source": [
    "# DONT EXECUTE NEXT CELLULE UNLESS YOU WANT TO WAIT 20 MINUTES\n",
    "On execute ici 10 fois la correlation sur des données aléatoires, pour chaque gène, pour chaque maladie, et on les sauve dans un fichier txt.\n",
    "Pour chaque première génération, on montre le résultat comparé à la correlation normale"
   ]
  },
  {
   "cell_type": "code",
   "execution_count": 56,
   "id": "forty-probe",
   "metadata": {
    "scrolled": false
   },
   "outputs": [
    {
     "name": "stdout",
     "output_type": "stream",
     "text": [
      "(10, 54675)\n"
     ]
    },
    {
     "data": {
      "image/png": "[encoded data removed]",
      "text/plain": [
       "<Figure size 432x288 with 1 Axes>"
      ]
     },
     "metadata": {
      "needs_background": "light"
     },
     "output_type": "display_data"
    },
    {
     "data": {
      "image/png": "[encoded data removed]",
      "text/plain": [
       "<Figure size 432x288 with 1 Axes>"
      ]
     },
     "metadata": {
      "needs_background": "light"
     },
     "output_type": "display_data"
    },
    {
     "data": {
      "image/png": "[encoded data removed]",
      "text/plain": [
       "<Figure size 432x288 with 1 Axes>"
      ]
     },
     "metadata": {
      "needs_background": "light"
     },
     "output_type": "display_data"
    },
    {
     "data": {
      "image/png": "[encoded data removed]",
      "text/plain": [
       "<Figure size 432x288 with 1 Axes>"
      ]
     },
     "metadata": {
      "needs_background": "light"
     },
     "output_type": "display_data"
    },
    {
     "data": {
      "image/png": "[encoded data removed]",
      "text/plain": [
       "<Figure size 432x288 with 1 Axes>"
      ]
     },
     "metadata": {
      "needs_background": "light"
     },
     "output_type": "display_data"
    },
    {
     "data": {
      "image/png": "[encoded data removed]",
      "text/plain": [
       "<Figure size 432x288 with 1 Axes>"
      ]
     },
     "metadata": {
      "needs_background": "light"
     },
     "output_type": "display_data"
    },
    {
     "data": {
      "image/png": "[encoded data removed]",
      "text/plain": [
       "<Figure size 432x288 with 1 Axes>"
      ]
     },
     "metadata": {
      "needs_background": "light"
     },
     "output_type": "display_data"
    },
    {
     "data": {
      "image/png": "[encoded data removed]",
      "text/plain": [
       "<Figure size 432x288 with 1 Axes>"
      ]
     },
     "metadata": {
      "needs_background": "light"
     },
     "output_type": "display_data"
    },
    {
     "data": {
      "image/png": "[encoded data removed]",
      "text/plain": [
       "<Figure size 432x288 with 1 Axes>"
      ]
     },
     "metadata": {
      "needs_background": "light"
     },
     "output_type": "display_data"
    }
   ],
   "source": [
    "correlations_random = {}\n",
    "N_genes = np.shape(data_train)[0]-1\n",
    "n_randoms = 10\n",
    "\n",
    "#create n_random rows for generating correlations n_random times, for each gene, for each disease\n",
    "for disease in diseases:\n",
    "    correlations_random[disease] = np.zeros((n_randoms, N_genes))\n",
    "    \n",
    "print(correlations_random['breast'].shape)\n",
    "\n",
    "for disease in diseases:\n",
    "    for i in range(n_randoms):\n",
    "        if i == 0:\n",
    "            correlations_random[disease][i] = compare_to_random_data(disease, show_plot = True)\n",
    "        else:\n",
    "            correlations_random[disease][i] = compare_to_random_data(disease)\n",
    "    np.savetxt(f'correlations/{disease}.txt', correlations_random[disease], fmt='%f')"
   ]
  },
  {
   "cell_type": "code",
   "execution_count": 55,
   "id": "spiritual-vocabulary",
   "metadata": {
    "scrolled": false
   },
   "outputs": [
    {
     "name": "stdout",
     "output_type": "stream",
     "text": [
      "[[0.  0.  0.  0.  0. ]\n",
      " [0.  0.  0.  0.  0. ]\n",
      " [1.2 2.  3.  4.  5. ]\n",
      " [0.  0.  0.  0.  0. ]\n",
      " [0.  0.  0.  0.  0. ]]\n",
      "[[0.  0.  0.  0.  0. ]\n",
      " [0.  0.  0.  0.  0. ]\n",
      " [1.2 2.  3.  4.  5. ]\n",
      " [0.  0.  0.  0.  0. ]\n",
      " [0.  0.  0.  0.  0. ]]\n"
     ]
    }
   ],
   "source": [
    "array = np.zeros((5,5))\n",
    "array[2] = [1.2,2,3,4,5]\n",
    "print(array)\n",
    "\n",
    "np.savetxt('correlations/test.txt', array, fmt='%f')\n",
    "b = np.loadtxt('correlations/test.txt', dtype=float)\n",
    "print(b)"
   ]
  },
  {
   "cell_type": "markdown",
   "id": "genetic-dominican",
   "metadata": {},
   "source": [
    "Calcul de la p-value pour chaque gène pour chaque maladie"
   ]
  },
  {
   "cell_type": "code",
   "execution_count": 38,
   "id": "classical-sarah",
   "metadata": {},
   "outputs": [
    {
     "ename": "IndexError",
     "evalue": "too many indices for array: array is 1-dimensional, but 2 were indexed",
     "output_type": "error",
     "traceback": [
      "\u001b[1;31m---------------------------------------------------------------------------\u001b[0m",
      "\u001b[1;31mIndexError\u001b[0m                                Traceback (most recent call last)",
      "\u001b[1;32m<ipython-input-38-2f99c4a9e18f>\u001b[0m in \u001b[0;36m<module>\u001b[1;34m\u001b[0m\n\u001b[0;32m      8\u001b[0m \u001b[1;33m\u001b[0m\u001b[0m\n\u001b[0;32m      9\u001b[0m         \u001b[1;31m# random correlation: calculate mean and standard deviation\u001b[0m\u001b[1;33m\u001b[0m\u001b[1;33m\u001b[0m\u001b[1;33m\u001b[0m\u001b[0m\n\u001b[1;32m---> 10\u001b[1;33m         \u001b[0mrandom_correlations\u001b[0m \u001b[1;33m=\u001b[0m \u001b[0mcorrelations_random\u001b[0m\u001b[1;33m[\u001b[0m\u001b[0mdisease\u001b[0m\u001b[1;33m]\u001b[0m\u001b[1;33m[\u001b[0m\u001b[0midx\u001b[0m\u001b[1;33m,\u001b[0m\u001b[1;33m:\u001b[0m\u001b[1;33m]\u001b[0m\u001b[1;33m\u001b[0m\u001b[1;33m\u001b[0m\u001b[0m\n\u001b[0m\u001b[0;32m     11\u001b[0m         \u001b[0mmean_random\u001b[0m \u001b[1;33m=\u001b[0m \u001b[0mnp\u001b[0m\u001b[1;33m.\u001b[0m\u001b[0mmean\u001b[0m\u001b[1;33m(\u001b[0m\u001b[0mrandom_correlations\u001b[0m\u001b[1;33m)\u001b[0m\u001b[1;33m\u001b[0m\u001b[1;33m\u001b[0m\u001b[0m\n\u001b[0;32m     12\u001b[0m         \u001b[0mstd_random\u001b[0m \u001b[1;33m=\u001b[0m \u001b[0mnp\u001b[0m\u001b[1;33m.\u001b[0m\u001b[0mstd\u001b[0m\u001b[1;33m(\u001b[0m\u001b[0mrandom_correlations\u001b[0m\u001b[1;33m)\u001b[0m\u001b[1;33m\u001b[0m\u001b[1;33m\u001b[0m\u001b[0m\n",
      "\u001b[1;31mIndexError\u001b[0m: too many indices for array: array is 1-dimensional, but 2 were indexed"
     ]
    }
   ],
   "source": [
    "N_genes = np.shape(data_train)[0]-1 # number of genes in the data\n",
    "\n",
    "pval_correls = {} # p-values \n",
    "\n",
    "for disease in diseases:\n",
    "    pval_correls[disease] = []\n",
    "    for idx in range(0,N_genes):\n",
    "\n",
    "        # random correlation: calculate mean and standard deviation\n",
    "        random_correlations = correlations_random[disease][idx,:]\n",
    "        mean_random = np.mean(random_correlations)\n",
    "        std_random = np.std(random_correlations)\n",
    "\n",
    "        # observed correlation\n",
    "        observed_correlation = corr[idx]\n",
    "\n",
    "        # cdf: cumulative distribution function = integral of the gaussian distribution from -inf to observed_correlation\n",
    "        cdf = norm.cdf(observed_correlation,loc=mean_random,scale=std_random)\n",
    "        if cdf >= 0.5:\n",
    "            p = 1 - cdf\n",
    "        else:\n",
    "            p = cdf\n",
    "        pval_correl.append(2*p) # factor 2 because correlations can take both positive and negative values\n",
    "\n",
    "        # show p-value visually for the first gene (p-value = area of black hatched regions under the curve)\n",
    "        if idx==0:\n",
    "            plt.figure()\n",
    "            plt.title(f\"First p value for {disease}\")\n",
    "            plt.plot(xx,norm.pdf(xx,loc=mean_random,scale=std_random),'k-',lw=2)\n",
    "            plt.vlines(corr[idx],0,4 ,'r',lw=2)\n",
    "            for j in np.linspace(observed_correlation,1,int(100*(1-observed_correlation))):\n",
    "                plt.vlines(j,0,norm.pdf(j,loc=mean_random,scale=std_random),'k',lw=1)\n",
    "            for j in np.linspace(-1,-observed_correlation,int(100*(1-observed_correlation))):\n",
    "                plt.vlines(j,0,norm.pdf(j,loc=mean_random,scale=std_random),'k',lw=1)\n",
    "            plt.xlabel('Correlation')\n",
    "            plt.ylabel('Normalized count')\n",
    "            plt.show()"
   ]
  },
  {
   "cell_type": "code",
   "execution_count": 23,
   "id": "acquired-vegetarian",
   "metadata": {},
   "outputs": [
    {
     "ename": "NameError",
     "evalue": "name 'stats' is not defined",
     "output_type": "error",
     "traceback": [
      "\u001b[1;31m---------------------------------------------------------------------------\u001b[0m",
      "\u001b[1;31mNameError\u001b[0m                                 Traceback (most recent call last)",
      "\u001b[1;32m<ipython-input-23-6473f501bda0>\u001b[0m in \u001b[0;36m<module>\u001b[1;34m\u001b[0m\n\u001b[0;32m      1\u001b[0m \u001b[1;31m# Multiple-testing-corrected p-value\u001b[0m\u001b[1;33m\u001b[0m\u001b[1;33m\u001b[0m\u001b[1;33m\u001b[0m\u001b[0m\n\u001b[1;32m----> 2\u001b[1;33m \u001b[0mfdr_pval\u001b[0m \u001b[1;33m=\u001b[0m \u001b[0mstats\u001b[0m\u001b[1;33m.\u001b[0m\u001b[0mfdr_correction\u001b[0m\u001b[1;33m(\u001b[0m\u001b[0mpval_correl\u001b[0m\u001b[1;33m)\u001b[0m\u001b[1;33m\u001b[0m\u001b[1;33m\u001b[0m\u001b[0m\n\u001b[0m\u001b[0;32m      3\u001b[0m \u001b[0mprint\u001b[0m\u001b[1;33m(\u001b[0m\u001b[1;34m'-log10(p-value FDR) = '\u001b[0m\u001b[1;33m+\u001b[0m\u001b[0mstr\u001b[0m\u001b[1;33m(\u001b[0m\u001b[1;33m-\u001b[0m\u001b[0mnp\u001b[0m\u001b[1;33m.\u001b[0m\u001b[0mlog10\u001b[0m\u001b[1;33m(\u001b[0m\u001b[0mfdr_pval\u001b[0m\u001b[1;33m)\u001b[0m\u001b[1;33m)\u001b[0m\u001b[1;33m+\u001b[0m\u001b[1;34m'\\n'\u001b[0m\u001b[1;33m)\u001b[0m\u001b[1;33m\u001b[0m\u001b[1;33m\u001b[0m\u001b[0m\n\u001b[0;32m      4\u001b[0m \u001b[1;33m\u001b[0m\u001b[0m\n\u001b[0;32m      5\u001b[0m \u001b[1;31m# idx of genes with p-value < fdr_pval\u001b[0m\u001b[1;33m\u001b[0m\u001b[1;33m\u001b[0m\u001b[1;33m\u001b[0m\u001b[0m\n",
      "\u001b[1;31mNameError\u001b[0m: name 'stats' is not defined"
     ]
    }
   ],
   "source": [
    "# Multiple-testing-corrected p-value\n",
    "fdr_pval = stats.fdr_correction(pval_correl)\n",
    "print('-log10(p-value FDR) = '+str(-np.log10(fdr_pval))+'\\n')\n",
    "\n",
    "# idx of genes with p-value < fdr_pval\n",
    "idx_sg_corr = np.array([i for i,p in enumerate(pval_correl) if p<fdr_pval])\n",
    "\n",
    "# Volcano plot that shows significant genes in red\n",
    "stats.volcano_plot(data[1:,2:],desired_profile,pval=pval_correl,idx=idx_sg_corr)\n",
    "\n",
    "# print name of most significant genes\n",
    "print(str(len(idx_sg_corr))+' significant genes found with correlation (after p-value correction): \\n'+str(data[idx_sg_corr+1,1]))"
   ]
  },
  {
   "cell_type": "code",
   "execution_count": null,
   "id": "uniform-beverage",
   "metadata": {},
   "outputs": [],
   "source": []
  }
 ],
 "metadata": {
  "kernelspec": {
   "display_name": "Python 3",
   "language": "python",
   "name": "python3"
  },
  "language_info": {
   "codemirror_mode": {
    "name": "ipython",
    "version": 3
   },
   "file_extension": ".py",
   "mimetype": "text/x-python",
   "name": "python",
   "nbconvert_exporter": "python",
   "pygments_lexer": "ipython3",
   "version": "3.9.1"
  }
 },
 "nbformat": 4,
 "nbformat_minor": 5
}
