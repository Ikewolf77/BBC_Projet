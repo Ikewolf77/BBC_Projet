{
 "cells": [
  {
   "cell_type": "markdown",
   "id": "following-parker",
   "metadata": {},
   "source": [
    "# Projet 3 : développer à partir de l’expression de gènes (puce à ADN) un outil de diagnostic, capable de prédire plusieurs types de cancer."
   ]
  },
  {
   "cell_type": "markdown",
   "id": "disturbed-pioneer",
   "metadata": {},
   "source": [
    "Etudiants :\n",
    "- Mattei Simon\n",
    "- Mercado Pablo"
   ]
  },
  {
   "cell_type": "code",
   "execution_count": null,
   "id": "adjusted-studio",
   "metadata": {},
   "outputs": [],
   "source": []
  }
 ],
 "metadata": {
  "kernelspec": {
   "display_name": "Python 3",
   "language": "python",
   "name": "python3"
  },
  "language_info": {
   "codemirror_mode": {
    "name": "ipython",
    "version": 3
   },
   "file_extension": ".py",
   "mimetype": "text/x-python",
   "name": "python",
   "nbconvert_exporter": "python",
   "pygments_lexer": "ipython3",
   "version": "3.9.1"
  }
 },
 "nbformat": 4,
 "nbformat_minor": 5
}
